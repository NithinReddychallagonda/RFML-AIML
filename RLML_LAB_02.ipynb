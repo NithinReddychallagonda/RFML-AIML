{
  "nbformat": 4,
  "nbformat_minor": 0,
  "metadata": {
    "colab": {
      "provenance": [],
      "authorship_tag": "ABX9TyNYPqUB2kziPY4JcsTr5FsG",
      "include_colab_link": true
    },
    "kernelspec": {
      "name": "python3",
      "display_name": "Python 3"
    },
    "language_info": {
      "name": "python"
    }
  },
  "cells": [
    {
      "cell_type": "markdown",
      "metadata": {
        "id": "view-in-github",
        "colab_type": "text"
      },
      "source": [
        "<a href=\"https://colab.research.google.com/github/NithinReddychallagonda/RFML-AIML/blob/main/RLML_LAB_02.ipynb\" target=\"_parent\"><img src=\"https://colab.research.google.com/assets/colab-badge.svg\" alt=\"Open In Colab\"/></a>"
      ]
    },
    {
      "cell_type": "code",
      "metadata": {
        "id": "9ea15142"
      },
      "source": [
        "import gymnasium as gym\n",
        "import numpy as np\n",
        "from collections import defaultdict"
      ],
      "execution_count": 15,
      "outputs": []
    },
    {
      "cell_type": "code",
      "metadata": {
        "id": "85f8f88f"
      },
      "source": [
        "env = gym.make('Blackjack-v1', sab=True)\n",
        "\n",
        "# Function to create a random policy\n",
        "def create_random_policy(env):\n",
        "    return lambda state: np.random.choice(env.action_space.n)\n",
        "\n",
        "# Function to create a greedy policy based on Q-values\n",
        "def create_greedy_policy(Q):\n",
        "    def policy_fn(state):\n",
        "        return np.argmax(Q[state])\n",
        "    return policy_fn"
      ],
      "execution_count": 16,
      "outputs": []
    },
    {
      "cell_type": "code",
      "metadata": {
        "id": "f5b82d22"
      },
      "source": [
        "def mc_policy_evaluation(policy, env, num_episodes, gamma=1.0):\n",
        "    returns_sum = defaultdict(float)\n",
        "    returns_count = defaultdict(float)\n",
        "    V = defaultdict(float)\n",
        "\n",
        "    for _ in range(num_episodes):\n",
        "        episode = []\n",
        "        state = env.reset()[0]\n",
        "        done = False\n",
        "\n",
        "        while not done:\n",
        "            action = policy(state)\n",
        "            next_state, reward, terminated, truncated, _ = env.step(action)\n",
        "            done = terminated or truncated # Blackjack env can be terminated or truncated\n",
        "            episode.append((state, action, reward))\n",
        "            state = next_state\n",
        "\n",
        "        visited_states = set()\n",
        "        G = 0\n",
        "        for state, action, reward in reversed(episode):\n",
        "            G = gamma * G + reward\n",
        "            if state not in visited_states:\n",
        "                returns_sum[state] += G\n",
        "                returns_count[state] += 1\n",
        "                V[state] = returns_sum[state] / returns_count[state]\n",
        "                visited_states.add(state)\n",
        "    return V"
      ],
      "execution_count": 17,
      "outputs": []
    },
    {
      "cell_type": "code",
      "metadata": {
        "id": "004b005e"
      },
      "source": [
        "def mc_control_epsilon_greedy(env, num_episodes, gamma=1.0, epsilon=0.1):\n",
        "    Q = defaultdict(lambda: np.zeros(env.action_space.n))\n",
        "\n",
        "    def policy_fn(state):\n",
        "        if np.random.rand() < epsilon:\n",
        "            return np.random.choice(env.action_space.n)\n",
        "        else:\n",
        "            return np.argmax(Q[state])\n",
        "\n",
        "    for _ in range(num_episodes):\n",
        "        episode = []\n",
        "        state = env.reset()[0]\n",
        "        done = False\n",
        "\n",
        "        while not done:\n",
        "            action = policy_fn(state)\n",
        "            next_state, reward, terminated, truncated, _ = env.step(action)\n",
        "            done = terminated or truncated # Blackjack env can be terminated or truncated\n",
        "            episode.append((state, action, reward))\n",
        "            state = next_state\n",
        "\n",
        "        visited_state_action_pairs = set()\n",
        "        G = 0\n",
        "        for state, action, reward in reversed(episode):\n",
        "            G = gamma * G + reward\n",
        "            if (state, action) not in visited_state_action_pairs:\n",
        "                old_q = Q[state][action]\n",
        "                Q[state][action] = old_q + (G - old_q) / (1 + sum(1 for s, a, r in episode if s == state and a == action))\n",
        "                visited_state_action_pairs.add((state, action))\n",
        "\n",
        "    return Q, create_greedy_policy(Q)"
      ],
      "execution_count": 18,
      "outputs": []
    },
    {
      "cell_type": "code",
      "metadata": {
        "colab": {
          "base_uri": "https://localhost:8080/"
        },
        "id": "83e9057b",
        "outputId": "d5b6e0ce-730c-4d0f-ab10-ee035bb51bb9"
      },
      "source": [
        "if __name__ == \"__main__\":\n",
        "    random_policy = create_random_policy(env)\n",
        "\n",
        "    print(\"Evaluating random policy...\")\n",
        "    V = mc_policy_evaluation(random_policy, env, num_episodes=50000)\n",
        "    print(\"Value function for random policy (sample):\")\n",
        "    for i, (state, value) in enumerate(list(V.items())[:10]):\n",
        "        print(f\"State: {state}, Value: {value:.2f}\")\n",
        "\n",
        "    print(\"\\nTraining control policy with epsilon-greedy strategy...\")\n",
        "    Q, greedy_policy = mc_control_epsilon_greedy(env, num_episodes=500000)\n",
        "    print(\"Learned Q-values (sample):\")\n",
        "    for i, (state, actions) in enumerate(list(Q.items())[:10]):\n",
        "        print(f\"State: {state}, Actions: {actions}\")"
      ],
      "execution_count": 20,
      "outputs": [
        {
          "output_type": "stream",
          "name": "stdout",
          "text": [
            "Evaluating random policy...\n",
            "Value function for random policy (sample):\n",
            "State: (13, 4, 0), Value: -0.40\n",
            "State: (13, 2, 0), Value: -0.41\n",
            "State: (12, 2, 0), Value: -0.38\n",
            "State: (18, 1, 0), Value: -0.60\n",
            "State: (21, 6, 0), Value: 0.09\n",
            "State: (21, 6, 1), Value: 0.47\n",
            "State: (20, 6, 1), Value: 0.05\n",
            "State: (9, 6, 0), Value: -0.25\n",
            "State: (18, 2, 0), Value: -0.30\n",
            "State: (21, 1, 0), Value: -0.09\n",
            "\n",
            "Training control policy with epsilon-greedy strategy...\n",
            "Learned Q-values (sample):\n",
            "State: (8, 7, 0), Actions: [ 0.05518437 -0.90878566]\n",
            "State: (20, 10, 0), Actions: [ 0.43015276 -0.99987793]\n",
            "State: (8, 10, 0), Actions: [-0.99803923  0.28521755]\n",
            "State: (10, 6, 0), Actions: [-0.97872804  0.97436158]\n",
            "State: (20, 7, 0), Actions: [ 0.43624878 -0.98242187]\n",
            "State: (18, 3, 0), Actions: [-0.46004596 -0.96874999]\n",
            "State: (18, 1, 0), Actions: [-0.85539124 -0.99214935]\n",
            "State: (15, 4, 1), Actions: [-0.79238863 -0.85382517]\n",
            "State: (13, 9, 0), Actions: [-0.99748707 -0.2484118 ]\n",
            "State: (10, 9, 0), Actions: [-0.99943345  0.78974066]\n"
          ]
        }
      ]
    }
  ]
}